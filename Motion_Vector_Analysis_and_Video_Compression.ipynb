{
  "cells": [
    {
      "cell_type": "markdown",
      "metadata": {
        "id": "view-in-github",
        "colab_type": "text"
      },
      "source": [
        "<a href=\"https://colab.research.google.com/github/sisco1113/motion-vector-analysis/blob/main/Motion_Vector_Analysis_and_Video_Compression.ipynb\" target=\"_parent\"><img src=\"https://colab.research.google.com/assets/colab-badge.svg\" alt=\"Open In Colab\"/></a>"
      ]
    },
    {
      "cell_type": "code",
      "execution_count": null,
      "metadata": {
        "colab": {
          "base_uri": "https://localhost:8080/"
        },
        "id": "qaPYA8Z_HKF-",
        "outputId": "7b24e330-035d-471c-f310-3ed3aa465ab4"
      },
      "outputs": [
        {
          "output_type": "stream",
          "name": "stdout",
          "text": [
            "Python 3.10.12\n"
          ]
        }
      ],
      "source": [
        "!python3 --version"
      ]
    },
    {
      "cell_type": "code",
      "execution_count": null,
      "metadata": {
        "colab": {
          "base_uri": "https://localhost:8080/"
        },
        "id": "rElFF_97HT0S",
        "outputId": "4980f760-9624-460a-ba7e-7ec65f2efb4b"
      },
      "outputs": [
        {
          "output_type": "stream",
          "name": "stdout",
          "text": [
            "Requirement already satisfied: motion-vector-extractor in /usr/local/lib/python3.10/dist-packages (1.0.6)\n",
            "Requirement already satisfied: pkgconfig>=1.5.1 in /usr/local/lib/python3.10/dist-packages (from motion-vector-extractor) (1.5.5)\n",
            "Requirement already satisfied: numpy>=1.17.0 in /usr/local/lib/python3.10/dist-packages (from motion-vector-extractor) (1.23.5)\n",
            "Requirement already satisfied: opencv-python<4.6,>=4.1.0.25 in /usr/local/lib/python3.10/dist-packages (from motion-vector-extractor) (4.5.5.64)\n"
          ]
        }
      ],
      "source": [
        "!pip install motion-vector-extractor"
      ]
    },
    {
      "cell_type": "code",
      "execution_count": null,
      "metadata": {
        "colab": {
          "base_uri": "https://localhost:8080/"
        },
        "id": "kTQAz8aYHwjW",
        "outputId": "8a198d90-9023-42b3-8586-a3c35d70b48b"
      },
      "outputs": [
        {
          "output_type": "stream",
          "name": "stdout",
          "text": [
            "usage: extract_mvs [-h] [-p] [-v] [-d] [video_url]\n",
            "\n",
            "Extract motion vectors from video.\n",
            "\n",
            "positional arguments:\n",
            "  video_url      File path or url of the video stream\n",
            "\n",
            "options:\n",
            "  -h, --help     show this help message and exit\n",
            "  -p, --preview  Show a preview video with overlaid motion vectors\n",
            "  -v, --verbose  Show detailled text output\n",
            "  -d, --dump     Dump frames, motion vectors, frame types, and timestamps to output directory\n"
          ]
        }
      ],
      "source": [
        "!extract_mvs -h"
      ]
    },
    {
      "cell_type": "code",
      "execution_count": null,
      "metadata": {
        "colab": {
          "base_uri": "https://localhost:8080/"
        },
        "id": "t9dt2ZkwHdHm",
        "outputId": "7abf2346-acb6-4830-b559-57d8c9b8c4e8"
      },
      "outputs": [
        {
          "output_type": "stream",
          "name": "stdout",
          "text": [
            "  % Total    % Received % Xferd  Average Speed   Time    Time     Time  Current\n",
            "                                 Dload  Upload   Total   Spent    Left  Speed\n",
            "100 1483M  100 1483M    0     0  57.6M      0  0:00:25  0:00:25 --:--:-- 50.4M\n"
          ]
        }
      ],
      "source": [
        "!curl  https://media.xiph.org/video/derf/y4m/sunflower_1080p25.y4m -o Sunflower.y4m"
      ]
    },
    {
      "cell_type": "code",
      "execution_count": null,
      "metadata": {
        "colab": {
          "base_uri": "https://localhost:8080/"
        },
        "id": "dabecpGLIie7",
        "outputId": "fc2d1ba4-a833-4a8e-8bf2-6ca103dd8086"
      },
      "outputs": [
        {
          "output_type": "stream",
          "name": "stdout",
          "text": [
            "ffprobe version 4.4.2-0ubuntu0.22.04.1 Copyright (c) 2007-2021 the FFmpeg developers\n",
            "  built with gcc 11 (Ubuntu 11.2.0-19ubuntu1)\n",
            "  configuration: --prefix=/usr --extra-version=0ubuntu0.22.04.1 --toolchain=hardened --libdir=/usr/lib/x86_64-linux-gnu --incdir=/usr/include/x86_64-linux-gnu --arch=amd64 --enable-gpl --disable-stripping --enable-gnutls --enable-ladspa --enable-libaom --enable-libass --enable-libbluray --enable-libbs2b --enable-libcaca --enable-libcdio --enable-libcodec2 --enable-libdav1d --enable-libflite --enable-libfontconfig --enable-libfreetype --enable-libfribidi --enable-libgme --enable-libgsm --enable-libjack --enable-libmp3lame --enable-libmysofa --enable-libopenjpeg --enable-libopenmpt --enable-libopus --enable-libpulse --enable-librabbitmq --enable-librubberband --enable-libshine --enable-libsnappy --enable-libsoxr --enable-libspeex --enable-libsrt --enable-libssh --enable-libtheora --enable-libtwolame --enable-libvidstab --enable-libvorbis --enable-libvpx --enable-libwebp --enable-libx265 --enable-libxml2 --enable-libxvid --enable-libzimg --enable-libzmq --enable-libzvbi --enable-lv2 --enable-omx --enable-openal --enable-opencl --enable-opengl --enable-sdl2 --enable-pocketsphinx --enable-librsvg --enable-libmfx --enable-libdc1394 --enable-libdrm --enable-libiec61883 --enable-chromaprint --enable-frei0r --enable-libx264 --enable-shared\n",
            "  libavutil      56. 70.100 / 56. 70.100\n",
            "  libavcodec     58.134.100 / 58.134.100\n",
            "  libavformat    58. 76.100 / 58. 76.100\n",
            "  libavdevice    58. 13.100 / 58. 13.100\n",
            "  libavfilter     7.110.100 /  7.110.100\n",
            "  libswscale      5.  9.100 /  5.  9.100\n",
            "  libswresample   3.  9.100 /  3.  9.100\n",
            "  libpostproc    55.  9.100 / 55.  9.100\n",
            "{\n",
            "Input #0, yuv4mpegpipe, from 'Sunflower.y4m':\n",
            "  Duration: 00:00:20.00, start: 0.000000, bitrate: 622081 kb/s\n",
            "  Stream #0:0: Video: rawvideo (I420 / 0x30323449), yuv420p(progressive), 1920x1080, SAR 1:1 DAR 16:9, 25 fps, 25 tbr, 25 tbn, 25 tbc\n",
            "    \"programs\": [\n",
            "\n",
            "    ],\n",
            "    \"streams\": [\n",
            "        {\n",
            "            \"width\": 1920,\n",
            "            \"height\": 1080,\n",
            "            \"r_frame_rate\": \"25/1\"\n",
            "        }\n",
            "    ]\n",
            "}\n"
          ]
        }
      ],
      "source": [
        "!ffprobe Sunflower.y4m -print_format json -show_entries stream=width,height,r_frame_rate"
      ]
    },
    {
      "cell_type": "code",
      "execution_count": null,
      "metadata": {
        "colab": {
          "base_uri": "https://localhost:8080/"
        },
        "id": "sGwW-MUIHu54",
        "outputId": "5ab7df91-dda9-4eef-bad3-0cd7f02176f1"
      },
      "outputs": [
        {
          "output_type": "stream",
          "name": "stdout",
          "text": [
            "ffmpeg version 4.4.2-0ubuntu0.22.04.1 Copyright (c) 2000-2021 the FFmpeg developers\n",
            "built with gcc 11 (Ubuntu 11.2.0-19ubuntu1)\n",
            "configuration: --prefix=/usr --extra-version=0ubuntu0.22.04.1 --toolchain=hardened --libdir=/usr/lib/x86_64-linux-gnu --incdir=/usr/include/x86_64-linux-gnu --arch=amd64 --enable-gpl --disable-stripping --enable-gnutls --enable-ladspa --enable-libaom --enable-libass --enable-libbluray --enable-libbs2b --enable-libcaca --enable-libcdio --enable-libcodec2 --enable-libdav1d --enable-libflite --enable-libfontconfig --enable-libfreetype --enable-libfribidi --enable-libgme --enable-libgsm --enable-libjack --enable-libmp3lame --enable-libmysofa --enable-libopenjpeg --enable-libopenmpt --enable-libopus --enable-libpulse --enable-librabbitmq --enable-librubberband --enable-libshine --enable-libsnappy --enable-libsoxr --enable-libspeex --enable-libsrt --enable-libssh --enable-libtheora --enable-libtwolame --enable-libvidstab --enable-libvorbis --enable-libvpx --enable-libwebp --enable-libx265 --enable-libxml2 --enable-libxvid --enable-libzimg --enable-libzmq --enable-libzvbi --enable-lv2 --enable-omx --enable-openal --enable-opencl --enable-opengl --enable-sdl2 --enable-pocketsphinx --enable-librsvg --enable-libmfx --enable-libdc1394 --enable-libdrm --enable-libiec61883 --enable-chromaprint --enable-frei0r --enable-libx264 --enable-shared\n",
            "libavutil      56. 70.100 / 56. 70.100\n",
            "libavcodec     58.134.100 / 58.134.100\n",
            "libavformat    58. 76.100 / 58. 76.100\n",
            "libavdevice    58. 13.100 / 58. 13.100\n",
            "libavfilter     7.110.100 /  7.110.100\n",
            "libswscale      5.  9.100 /  5.  9.100\n",
            "libswresample   3.  9.100 /  3.  9.100\n",
            "libpostproc    55.  9.100 / 55.  9.100\n"
          ]
        }
      ],
      "source": [
        "!ffmpeg -version\n"
      ]
    },
    {
      "cell_type": "code",
      "execution_count": null,
      "metadata": {
        "id": "NEc-6P8UI2Od",
        "colab": {
          "base_uri": "https://localhost:8080/"
        },
        "outputId": "1c738e2a-7e80-4060-ddf9-1d410ac6283c"
      },
      "outputs": [
        {
          "output_type": "stream",
          "name": "stdout",
          "text": [
            "ffmpeg version 4.4.2-0ubuntu0.22.04.1 Copyright (c) 2000-2021 the FFmpeg developers\n",
            "  built with gcc 11 (Ubuntu 11.2.0-19ubuntu1)\n",
            "  configuration: --prefix=/usr --extra-version=0ubuntu0.22.04.1 --toolchain=hardened --libdir=/usr/lib/x86_64-linux-gnu --incdir=/usr/include/x86_64-linux-gnu --arch=amd64 --enable-gpl --disable-stripping --enable-gnutls --enable-ladspa --enable-libaom --enable-libass --enable-libbluray --enable-libbs2b --enable-libcaca --enable-libcdio --enable-libcodec2 --enable-libdav1d --enable-libflite --enable-libfontconfig --enable-libfreetype --enable-libfribidi --enable-libgme --enable-libgsm --enable-libjack --enable-libmp3lame --enable-libmysofa --enable-libopenjpeg --enable-libopenmpt --enable-libopus --enable-libpulse --enable-librabbitmq --enable-librubberband --enable-libshine --enable-libsnappy --enable-libsoxr --enable-libspeex --enable-libsrt --enable-libssh --enable-libtheora --enable-libtwolame --enable-libvidstab --enable-libvorbis --enable-libvpx --enable-libwebp --enable-libx265 --enable-libxml2 --enable-libxvid --enable-libzimg --enable-libzmq --enable-libzvbi --enable-lv2 --enable-omx --enable-openal --enable-opencl --enable-opengl --enable-sdl2 --enable-pocketsphinx --enable-librsvg --enable-libmfx --enable-libdc1394 --enable-libdrm --enable-libiec61883 --enable-chromaprint --enable-frei0r --enable-libx264 --enable-shared\n",
            "  libavutil      56. 70.100 / 56. 70.100\n",
            "  libavcodec     58.134.100 / 58.134.100\n",
            "  libavformat    58. 76.100 / 58. 76.100\n",
            "  libavdevice    58. 13.100 / 58. 13.100\n",
            "  libavfilter     7.110.100 /  7.110.100\n",
            "  libswscale      5.  9.100 /  5.  9.100\n",
            "  libswresample   3.  9.100 /  3.  9.100\n",
            "  libpostproc    55.  9.100 / 55.  9.100\n",
            "Input #0, yuv4mpegpipe, from 'Sunflower.y4m':\n",
            "  Duration: 00:00:20.00, start: 0.000000, bitrate: 622081 kb/s\n",
            "  Stream #0:0: Video: rawvideo (I420 / 0x30323449), yuv420p(progressive), 1920x1080, SAR 1:1 DAR 16:9, 25 fps, 25 tbr, 25 tbn, 25 tbc\n",
            "File 'Sunflower_config5_crf24_h264.ts' already exists. Overwrite? [y/N] ^C\n"
          ]
        }
      ],
      "source": [
        "!ffmpeg -i Sunflower.y4m -psnr -tune psnr -pix_fmt yuv420p -preset veryslow -codec:v libx264 -crf 24 Sunflower_config5_crf24_h264.ts"
      ]
    },
    {
      "cell_type": "code",
      "execution_count": null,
      "metadata": {
        "id": "ykGZUiIA-2k2"
      },
      "outputs": [],
      "source": [
        "!ffprobe Sunflower_config5_crf24_h264.ts -print_format json -show_entries stream=width,height,r_frame_rate"
      ]
    },
    {
      "cell_type": "code",
      "execution_count": null,
      "metadata": {
        "id": "cACYyQ7r_Anq"
      },
      "outputs": [],
      "source": [
        "!ffmpeg -y -i Sunflower_config5_crf24_h264.ts \\\n",
        "-vframes 25 \\\n",
        "-pix_fmt yuv420p \\\n",
        "-codec:v libx264 \\\n",
        "-b:v 5000k \\\n",
        "Sunflower_config5_crf24_h264.mp4"
      ]
    },
    {
      "cell_type": "code",
      "execution_count": null,
      "metadata": {
        "id": "tVL7bsvZ_XFa"
      },
      "outputs": [],
      "source": [
        "!extract_mvs -h"
      ]
    },
    {
      "cell_type": "code",
      "execution_count": null,
      "metadata": {
        "id": "mtOsWcvC_Xu-"
      },
      "outputs": [],
      "source": [
        "!extract_mvs Sunflower_config5_crf24_h264.mp4 -v"
      ]
    },
    {
      "cell_type": "code",
      "execution_count": null,
      "metadata": {
        "id": "0W0h1ZJk_6Sr"
      },
      "outputs": [],
      "source": [
        "!extract_mvs Sunflower_config5_crf24_h264.mp4 -v -d"
      ]
    },
    {
      "cell_type": "code",
      "execution_count": null,
      "metadata": {
        "id": "EP3Ei6iiAhHC"
      },
      "outputs": [],
      "source": [
        "!ffmpeg -f image2 -i  \"/content/sunflower-config5/frames/frame-0.jpg\" Sunflower_config5_motion_vector_output.mp4"
      ]
    },
    {
      "cell_type": "code",
      "execution_count": null,
      "metadata": {
        "id": "XPUPv-FaGc4E"
      },
      "outputs": [],
      "source": [
        "import numpy as np\n",
        "import os"
      ]
    },
    {
      "cell_type": "code",
      "execution_count": null,
      "metadata": {
        "id": "Y8azU_b7GdjV"
      },
      "outputs": [],
      "source": [
        "mv_path = '/content/sunflower-config5/motion_vectors'"
      ]
    },
    {
      "cell_type": "code",
      "execution_count": null,
      "metadata": {
        "id": "NSMNog8tGz_S"
      },
      "outputs": [],
      "source": [
        "frame_no = 1"
      ]
    },
    {
      "cell_type": "code",
      "execution_count": null,
      "metadata": {
        "id": "nl1uRN4RG0xz"
      },
      "outputs": [],
      "source": [
        "motion_vectors = np.load(os.path.join(mv_path, f\"mvs-{frame_no}.npy\"))"
      ]
    },
    {
      "cell_type": "code",
      "execution_count": null,
      "metadata": {
        "id": "x-ArRMuaG5GZ"
      },
      "outputs": [],
      "source": [
        "motion_vectors"
      ]
    },
    {
      "cell_type": "code",
      "execution_count": null,
      "metadata": {
        "id": "UjAUNmpJG7s5"
      },
      "outputs": [],
      "source": [
        "motion_vectors.shape"
      ]
    },
    {
      "cell_type": "code",
      "execution_count": null,
      "metadata": {
        "id": "_E-TqFzaG9rk"
      },
      "outputs": [],
      "source": [
        "motion_vectors[-2]"
      ]
    },
    {
      "cell_type": "code",
      "execution_count": null,
      "metadata": {
        "id": "d-7XWizFG-fK"
      },
      "outputs": [],
      "source": [
        "motion_x = motion_vectors[:, -3]\n",
        "motion_x"
      ]
    },
    {
      "cell_type": "code",
      "execution_count": null,
      "metadata": {
        "id": "5Qe_3yfjHAsT"
      },
      "outputs": [],
      "source": [
        "total_motion_x = np.sum(np.abs(motion_x))\n",
        "total_motion_x"
      ]
    },
    {
      "cell_type": "code",
      "execution_count": null,
      "metadata": {
        "id": "jGdXr_4-HDWc"
      },
      "outputs": [],
      "source": [
        "motion_y = motion_vectors[:, -2]\n",
        "motion_y"
      ]
    },
    {
      "cell_type": "code",
      "execution_count": null,
      "metadata": {
        "id": "xeaM9AVkHKUu"
      },
      "outputs": [],
      "source": [
        "total_motion_y = np.sum(np.abs(motion_y))\n",
        "total_motion_y"
      ]
    },
    {
      "cell_type": "code",
      "execution_count": null,
      "metadata": {
        "id": "tdCe3kO0HMyr"
      },
      "outputs": [],
      "source": [
        "total_motion = total_motion_x + total_motion_y\n",
        "total_motion"
      ]
    },
    {
      "cell_type": "code",
      "execution_count": null,
      "metadata": {
        "id": "u4pa4gyE_hqI"
      },
      "outputs": [],
      "source": [
        "import glob\n",
        "import numpy as np\n",
        "import matplotlib.pyplot as plt"
      ]
    },
    {
      "cell_type": "code",
      "execution_count": null,
      "metadata": {
        "id": "lJ32rTr7_hsj"
      },
      "outputs": [],
      "source": [
        "mv_paths = '/content/sunflower-config5/motion_vectors'"
      ]
    },
    {
      "cell_type": "code",
      "execution_count": null,
      "metadata": {
        "id": "XFN7G1Ke_hvO"
      },
      "outputs": [],
      "source": [
        "total_motions = []\n",
        "\n",
        "for frame_no in range(len(glob.glob(f'{mv_paths}/*.npy'))):\n",
        "    motion_vectors = np.load(os.path.join(mv_paths, f\"mvs-{frame_no}.npy\"))\n",
        "\n",
        "    motion_x = motion_vectors[:, -3]\n",
        "    total_motion_x = np.sum(np.abs(motion_x))\n",
        "\n",
        "    motion_y = motion_vectors[:, -2]\n",
        "    total_motion_y = np.sum(np.abs(motion_y))\n",
        "\n",
        "    total_motion = total_motion_x + total_motion_y\n",
        "\n",
        "    print(f\"Frame_no: {frame_no}, total_motion: {total_motion}\")\n",
        "\n",
        "    total_motions.append(total_motion)\n",
        "    # Calculate the average\n",
        "average_total_motion = np.mean(total_motions)\n",
        "\n",
        "print(f\"Average Total Motion: {average_total_motion}\")\n"
      ]
    },
    {
      "cell_type": "code",
      "execution_count": null,
      "metadata": {
        "id": "9CrRIo80_hx5"
      },
      "outputs": [],
      "source": [
        "plt.plot(total_motions)\n",
        "plt.show()\n"
      ]
    },
    {
      "cell_type": "code",
      "execution_count": null,
      "metadata": {
        "id": "QJPRRFFp_hz5"
      },
      "outputs": [],
      "source": [
        "n = 6\n",
        "idx = (-np.array(total_motions)).argsort()[:n]\n",
        "\n",
        "for frame_no in idx:\n",
        "    print(f\"Frame No: {frame_no} contains high motion activity\")"
      ]
    },
    {
      "cell_type": "code",
      "execution_count": null,
      "metadata": {
        "id": "KUCT8gNOAuXW"
      },
      "outputs": [],
      "source": [
        "import numpy as np\n",
        "import matplotlib.pyplot as plt\n",
        "from PIL import Image\n",
        "frame_no = 19\n",
        "image_path = \"/content/sunflower-config5/frames\"\n",
        "img = os.path.join(image_path, f\"frame-{frame_no}.jpg\")\n",
        "Image.open(img)\n"
      ]
    },
    {
      "cell_type": "code",
      "execution_count": null,
      "metadata": {
        "id": "iR-3FSqeAuaX"
      },
      "outputs": [],
      "source": [
        "n = 6\n",
        "idx = (np.array(total_motions)).argsort()[:n]\n",
        "\n",
        "for frame_no in idx:\n",
        "    print(f\"Frame No: {frame_no} contains low motion activity\")"
      ]
    },
    {
      "cell_type": "code",
      "execution_count": null,
      "metadata": {
        "id": "ilmQRPgEAudg"
      },
      "outputs": [],
      "source": [
        "frame_no = 13\n",
        "img = os.path.join(image_path, f\"frame-{frame_no}.jpg\")\n",
        "print(img)\n",
        "Image.open(img)\n"
      ]
    },
    {
      "cell_type": "code",
      "execution_count": null,
      "metadata": {
        "id": "RENS-RY7Auil"
      },
      "outputs": [],
      "source": [
        "!ffmpeg -y -i Sunflower_config5_crf24_h264.ts  \\\n",
        "-vframes 500 \\\n",
        "-pix_fmt yuv420p \\\n",
        "-codec:v libx264 \\\n",
        "-b:v 5000k \\\n",
        "Sunflower_config5_Detect.mp4\n"
      ]
    },
    {
      "cell_type": "code",
      "execution_count": null,
      "metadata": {
        "id": "NwVNQ_9gAulG"
      },
      "outputs": [],
      "source": [
        "!rm -r ./ouput_scene_change/\n"
      ]
    },
    {
      "cell_type": "code",
      "execution_count": null,
      "metadata": {
        "id": "c3OIrtU2AunT"
      },
      "outputs": [],
      "source": [
        "!mkdir -p ./ouput_scene_change/\n"
      ]
    },
    {
      "cell_type": "code",
      "execution_count": null,
      "metadata": {
        "id": "Kd7bb8-E_h2V"
      },
      "outputs": [],
      "source": [
        "!ffmpeg -i /content/Sunflower_config5_Detect.mp4.mp4 \\\n",
        "-filter_complex \"select='gt(scene, 0.045)',metadata=print:file=time.txt\" \\\n",
        "-vsync vfr ./ouput_scene_change/img%03d.png"
      ]
    },
    {
      "cell_type": "code",
      "execution_count": null,
      "metadata": {
        "id": "1m32uEKrBsh7"
      },
      "outputs": [],
      "source": [
        "import imageio\n",
        "import glob2\n",
        "\n",
        "image_path = './ouput_scene_change/'\n",
        "images = []\n",
        "\n",
        "for frame_no in range(1, len(glob.glob(f'{image_path}/*.png'))+1):\n",
        "         print(f'img{str(frame_no).zfill(3)}.png')\n",
        "filename = os.path.join(image_path, f'img{str(frame_no).zfill(3)}.png')\n",
        "images.append(imageio.imread(filename))\n",
        "imageio.mimsave('scene_chnage.gif', images)\n"
      ]
    },
    {
      "cell_type": "markdown",
      "metadata": {
        "id": "WthV6jPNOX7z"
      },
      "source": [
        "Question 3 (Object Detector)"
      ]
    },
    {
      "cell_type": "code",
      "execution_count": null,
      "metadata": {
        "id": "7gM23mTWCFvy"
      },
      "outputs": [],
      "source": [
        "!rm -r ./output_frame/\n"
      ]
    },
    {
      "cell_type": "code",
      "execution_count": null,
      "metadata": {
        "id": "w6dVQj6DCFy5"
      },
      "outputs": [],
      "source": [
        "!mkdir -p ./output_frame/\n"
      ]
    },
    {
      "cell_type": "code",
      "execution_count": null,
      "metadata": {
        "id": "-yE6v-gSCF1t"
      },
      "outputs": [],
      "source": [
        "!ffmpeg -f rawvideo \\\n",
        "-pixel_format yuv420p \\\n",
        "-framerate 25 \\\n",
        "-s 1920x1080 \\\n",
        "-i Sunflower.y4m \\\n",
        "-vframes 25 \\\n",
        "./output_frame/frames%d.png\n"
      ]
    },
    {
      "cell_type": "code",
      "execution_count": null,
      "metadata": {
        "id": "M13eKjI-CF5V"
      },
      "outputs": [],
      "source": [
        "import torch\n",
        "\n",
        "# Model\n",
        "model = torch.hub.load('ultralytics/yolov5', 'yolov5s', pretrained=True)\n",
        "\n",
        "# Images\n",
        "imgs = ['/content/output_frame/frames1.png', '/content/output_frame/frames25.png']  # Fix line break\n",
        "\n",
        "# Inference\n",
        "results = model(imgs)\n",
        "\n",
        "# Results\n",
        "results.print()\n",
        "results.show()"
      ]
    },
    {
      "cell_type": "code",
      "execution_count": null,
      "metadata": {
        "id": "XdCjgrG7j1Rc"
      },
      "outputs": [],
      "source": [
        "# Count the number of objects detected\n",
        "num_objects = sum([len(x) for x in results.xyxy])\n",
        "\n",
        "# Print the number of objects detected\n",
        "print(f\"Number of objects detected: {num_objects}\")\n"
      ]
    },
    {
      "cell_type": "code",
      "execution_count": null,
      "metadata": {
        "id": "ffgt0STGCYVc"
      },
      "outputs": [],
      "source": [
        "results.xyxy[0] # img1 predictions (tensor)\n",
        "results.pandas().xyxy[0] # img1 predictions (pandas)\n"
      ]
    },
    {
      "cell_type": "code",
      "execution_count": null,
      "metadata": {
        "id": "OnUVntziCYZK"
      },
      "outputs": [],
      "source": [
        "results.xyxy[1] # img2 predictions (tensor)\n",
        "results.pandas().xyxy[1] # img2 predictions (pandas)\n"
      ]
    },
    {
      "cell_type": "code",
      "execution_count": null,
      "metadata": {
        "id": "cusI9qZRCifL"
      },
      "outputs": [],
      "source": [
        "!jupyter nbconvert --to PDF \"Sunflower-config5.ipynb\""
      ]
    }
  ],
  "metadata": {
    "colab": {
      "provenance": [],
      "include_colab_link": true
    },
    "kernelspec": {
      "display_name": "Python 3",
      "name": "python3"
    },
    "language_info": {
      "name": "python"
    }
  },
  "nbformat": 4,
  "nbformat_minor": 0
}